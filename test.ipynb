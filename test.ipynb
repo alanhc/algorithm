{
 "cells": [
  {
   "cell_type": "code",
   "execution_count": 10,
   "metadata": {},
   "outputs": [
    {
     "name": "stdout",
     "output_type": "stream",
     "text": [
      "arithmetic\n"
     ]
    }
   ],
   "source": [
    "\n",
    "sub = b-a == c-b\n",
    "rat = b/a == c/b\n",
    "if sub and rat:\n",
    "    print(\"both\")\n",
    "elif sub:\n",
    "    print(\"arithmetic\")\n",
    "elif rat:\n",
    "    print(\"geometric\")\n",
    "else:\n",
    "    print(\"normal\")"
   ]
  },
  {
   "cell_type": "code",
   "execution_count": 13,
   "metadata": {},
   "outputs": [
    {
     "name": "stdout",
     "output_type": "stream",
     "text": [
      "arithmetic\n"
     ]
    }
   ],
   "source": [
    "a = int(input())\n",
    "b = int(input())\n",
    "c = int(input())\n",
    "sub = False\n",
    "rat = False\n",
    "if a+c == b+b:\n",
    "    sub = True\n",
    "b2 = b*b\n",
    "ac = a*c\n",
    "if ac == b2 and b2 != 0 and ac != 0:\n",
    "    rat = True\n",
    "if sub and rat:\n",
    "    print(\"both\")\n",
    "elif sub:\n",
    "    print(\"arithmetic\")\n",
    "elif rat:\n",
    "    print(\"geometric\")\n",
    "else:\n",
    "    print(\"normal\")\n",
    "\n"
   ]
  },
  {
   "cell_type": "code",
   "execution_count": 6,
   "metadata": {},
   "outputs": [
    {
     "ename": "ValueError",
     "evalue": "invalid literal for int() with base 10: ''",
     "output_type": "error",
     "traceback": [
      "\u001b[0;31m---------------------------------------------------------------------------\u001b[0m",
      "\u001b[0;31mValueError\u001b[0m                                Traceback (most recent call last)",
      "Cell \u001b[0;32mIn[6], line 1\u001b[0m\n\u001b[0;32m----> 1\u001b[0m a,b,c \u001b[38;5;241m=\u001b[39m \u001b[38;5;28mmap\u001b[39m(\u001b[38;5;28mint\u001b[39m, [\u001b[38;5;28minput\u001b[39m() \u001b[38;5;28;01mfor\u001b[39;00m _ \u001b[38;5;129;01min\u001b[39;00m \u001b[38;5;28mrange\u001b[39m(\u001b[38;5;241m3\u001b[39m)])\n\u001b[1;32m      2\u001b[0m \u001b[38;5;28;01mif\u001b[39;00m a\u001b[38;5;241m==\u001b[39mb\u001b[38;5;241m==\u001b[39mc \u001b[38;5;129;01mand\u001b[39;00m a\u001b[38;5;241m*\u001b[39mb\u001b[38;5;241m*\u001b[39mc \u001b[38;5;241m!=\u001b[39m \u001b[38;5;241m0\u001b[39m:\n\u001b[1;32m      3\u001b[0m     \u001b[38;5;28mprint\u001b[39m(\u001b[38;5;124m\"\u001b[39m\u001b[38;5;124mboth\u001b[39m\u001b[38;5;124m\"\u001b[39m)\n",
      "\u001b[0;31mValueError\u001b[0m: invalid literal for int() with base 10: ''"
     ]
    }
   ],
   "source": [
    "a,b,c = map(int, [input() for _ in range(3)])\n",
    "if a==b==c and a*b*c != 0:\n",
    "    print(\"both\")\n",
    "elif a*c == b*b and a*b*c != 0:\n",
    "    print(\"geometric\")\n",
    "elif a+c == b+b:\n",
    "    print(\"arithmetic\")\n",
    "else:\n",
    "    print(\"normal\")\n"
   ]
  },
  {
   "cell_type": "code",
   "execution_count": 8,
   "metadata": {},
   "outputs": [
    {
     "name": "stdout",
     "output_type": "stream",
     "text": [
      "SAFE\n"
     ]
    },
    {
     "ename": "ValueError",
     "evalue": "not enough values to unpack (expected 3, got 0)",
     "output_type": "error",
     "traceback": [
      "\u001b[0;31m---------------------------------------------------------------------------\u001b[0m",
      "\u001b[0;31mValueError\u001b[0m                                Traceback (most recent call last)",
      "Cell \u001b[0;32mIn[8], line 3\u001b[0m\n\u001b[1;32m      1\u001b[0m \u001b[38;5;28;01mwhile\u001b[39;00m \u001b[38;5;28;01mTrue\u001b[39;00m:\n\u001b[1;32m      2\u001b[0m     \u001b[38;5;28;01mtry\u001b[39;00m:\n\u001b[0;32m----> 3\u001b[0m         a, b, c \u001b[38;5;241m=\u001b[39m [\u001b[38;5;28mint\u001b[39m(x) \u001b[38;5;28;01mfor\u001b[39;00m x \u001b[38;5;129;01min\u001b[39;00m \u001b[38;5;28minput\u001b[39m()\u001b[38;5;241m.\u001b[39msplit()]\n\u001b[1;32m      4\u001b[0m     \u001b[38;5;28;01mexcept\u001b[39;00m \u001b[38;5;167;01mEOFError\u001b[39;00m:\n\u001b[1;32m      5\u001b[0m         \u001b[38;5;28;01mbreak\u001b[39;00m\n",
      "\u001b[0;31mValueError\u001b[0m: not enough values to unpack (expected 3, got 0)"
     ]
    }
   ],
   "source": [
    "while True:\n",
    "    try:\n",
    "        a, b, c = [int(x) for x in input().split()]\n",
    "    except EOFError:\n",
    "        break\n",
    "    mx = a if a>b else b\n",
    "    mx = mx if mx>c else c\n",
    "    if a+b+c-mx > mx:\n",
    "        print(\"SAFE\")\n",
    "    else:\n",
    "        print(\"BYE\")"
   ]
  },
  {
   "cell_type": "code",
   "execution_count": 15,
   "metadata": {},
   "outputs": [
    {
     "name": "stdout",
     "output_type": "stream",
     "text": [
      "**********\n",
      "*********\n",
      "********\n",
      "*******\n",
      "******\n",
      "*****\n",
      "****\n",
      "***\n",
      "**\n",
      "*\n"
     ]
    }
   ],
   "source": [
    "a,b = map(int, input().split())\n",
    "d = 1 if a<b else -1\n",
    "b = b+1 if d==1 else b-1\n",
    "for n in range(a,b,d):\n",
    "    print(\"*\"*n)\n"
   ]
  },
  {
   "cell_type": "code",
   "execution_count": 20,
   "metadata": {},
   "outputs": [
    {
     "name": "stdout",
     "output_type": "stream",
     "text": [
      "2^2 * 3"
     ]
    },
    {
     "data": {
      "text/plain": [
       "[]"
      ]
     },
     "execution_count": 20,
     "metadata": {},
     "output_type": "execute_result"
    }
   ],
   "source": [
    "n = int(input())\n",
    "ans=[]\n",
    "first = True\n",
    "for i in range(2,n):\n",
    "    ct=0\n",
    "    while n%i==0:\n",
    "        n//=i\n",
    "        ct+=1\n",
    "    if ct>0:\n",
    "        if ct == 1:\n",
    "            out = \"\" if first else \" * \"\n",
    "            print(f\"{out}{i}\", end=\"\")\n",
    "        else:\n",
    "            out = \"\" if first else \" * \"\n",
    "            print(f\"{out}{i}^{ct}\", end=\"\")\n",
    "        if first:\n",
    "            first = False\n",
    "if n>1:\n",
    "    out = \"\" if first else \" * \"\n",
    "    print(f\"{out}{n}\", end=\"\")\n",
    "ans\n",
    "    "
   ]
  },
  {
   "cell_type": "code",
   "execution_count": 26,
   "metadata": {},
   "outputs": [
    {
     "name": "stdout",
     "output_type": "stream",
     "text": [
      "a\n",
      "ab\n"
     ]
    }
   ],
   "source": [
    "n = int(input())\n",
    "while n != 0:\n",
    "    n-=1\n",
    "    k, word = input().split()\n",
    "    k = int(k)\n",
    "    mx=0\n",
    "    ct=[0]*26\n",
    "    for i in range(k):\n",
    "        ct[ord(word[i])-ord('a')]+=1\n",
    "        mx = ct[ord(word[i])-ord('a')] if ct[ord(word[i])-ord('a')]>mx else mx\n",
    "    for i in range(26):\n",
    "        if ct[i]==mx:\n",
    "            print(chr(i+ord('a')), end=\"\")\n",
    "    print()\n"
   ]
  },
  {
   "cell_type": "code",
   "execution_count": 2,
   "metadata": {},
   "outputs": [
    {
     "name": "stdout",
     "output_type": "stream",
     "text": [
      "primes between 1 and 10: 2 3 5 7\n",
      "primes between 1 and 20: 2 3 5 7 11 13 17 19\n"
     ]
    },
    {
     "ename": "ValueError",
     "evalue": "invalid literal for int() with base 10: ''",
     "output_type": "error",
     "traceback": [
      "\u001b[0;31m---------------------------------------------------------------------------\u001b[0m",
      "\u001b[0;31mValueError\u001b[0m                                Traceback (most recent call last)",
      "Cell \u001b[0;32mIn[2], line 9\u001b[0m\n\u001b[1;32m      7\u001b[0m \u001b[38;5;28;01mwhile\u001b[39;00m \u001b[38;5;28;01mTrue\u001b[39;00m:\n\u001b[1;32m      8\u001b[0m     \u001b[38;5;28;01mtry\u001b[39;00m:\n\u001b[0;32m----> 9\u001b[0m         n \u001b[38;5;241m=\u001b[39m \u001b[38;5;28mint\u001b[39m(\u001b[38;5;28minput\u001b[39m())\n\u001b[1;32m     10\u001b[0m         ans \u001b[38;5;241m=\u001b[39m []\n\u001b[1;32m     11\u001b[0m         \u001b[38;5;28;01mfor\u001b[39;00m i \u001b[38;5;129;01min\u001b[39;00m \u001b[38;5;28mrange\u001b[39m(\u001b[38;5;241m2\u001b[39m,n\u001b[38;5;241m+\u001b[39m\u001b[38;5;241m1\u001b[39m):\n",
      "\u001b[0;31mValueError\u001b[0m: invalid literal for int() with base 10: ''"
     ]
    }
   ],
   "source": [
    "prime = [True] * 5005\n",
    "for i in range(2, 5005):\n",
    "    for j in range(2, i):\n",
    "        if i%j==0:\n",
    "            prime[i] = False\n",
    "            break\n",
    "while True:\n",
    "    try:\n",
    "        n = int(input())\n",
    "        ans = []\n",
    "        for i in range(2,n+1):\n",
    "            if prime[i]:\n",
    "                ans.append(i)\n",
    "        print(f\"primes between 1 ~ {n}:\", \" \".join(map(str, ans)))\n",
    "    except EOFError:\n",
    "        break"
   ]
  },
  {
   "cell_type": "code",
   "execution_count": 7,
   "metadata": {},
   "outputs": [
    {
     "name": "stdout",
     "output_type": "stream",
     "text": [
      "YES\n",
      "NO\n"
     ]
    },
    {
     "ename": "ValueError",
     "evalue": "invalid literal for int() with base 10: ''",
     "output_type": "error",
     "traceback": [
      "\u001b[0;31m---------------------------------------------------------------------------\u001b[0m",
      "\u001b[0;31mValueError\u001b[0m                                Traceback (most recent call last)",
      "Cell \u001b[0;32mIn[7], line 3\u001b[0m\n\u001b[1;32m      1\u001b[0m \u001b[38;5;28;01mwhile\u001b[39;00m \u001b[38;5;28;01mTrue\u001b[39;00m:\n\u001b[1;32m      2\u001b[0m     \u001b[38;5;28;01mtry\u001b[39;00m:\n\u001b[0;32m----> 3\u001b[0m         n \u001b[38;5;241m=\u001b[39m \u001b[38;5;28mint\u001b[39m(\u001b[38;5;28minput\u001b[39m())\n\u001b[1;32m      4\u001b[0m         s \u001b[38;5;241m=\u001b[39m mx \u001b[38;5;241m=\u001b[39m \u001b[38;5;241m0\u001b[39m\n\u001b[1;32m      5\u001b[0m         arr \u001b[38;5;241m=\u001b[39m \u001b[38;5;28minput\u001b[39m()\u001b[38;5;241m.\u001b[39msplit()\n",
      "\u001b[0;31mValueError\u001b[0m: invalid literal for int() with base 10: ''"
     ]
    }
   ],
   "source": [
    "while True:\n",
    "    try:\n",
    "        n = int(input())\n",
    "        s = mx = 0\n",
    "        arr = input().split()\n",
    "        for x in arr:\n",
    "            x = int(x)\n",
    "            s += x\n",
    "            mx = x if x>mx else mx\n",
    "        if 2*mx < s:\n",
    "            print(\"YES\")\n",
    "        else:\n",
    "            print(\"NO\")\n",
    "    except EOFError:\n",
    "        break"
   ]
  },
  {
   "cell_type": "code",
   "execution_count": 9,
   "metadata": {},
   "outputs": [
    {
     "name": "stdout",
     "output_type": "stream",
     "text": [
      "19\n"
     ]
    }
   ],
   "source": [
    "n = int(input())\n",
    "alive = n\n",
    "vis = [1] * n\n",
    "ok = 1\n",
    "i=0\n",
    "while alive>1:\n",
    "    if vis[i%n]:\n",
    "        if not ok:\n",
    "            vis[i%n] = 0\n",
    "            alive -= 1\n",
    "            ok=1\n",
    "        else:\n",
    "            ok=0\n",
    "    i+=1\n",
    "for i in range(n):\n",
    "    if vis[i]:\n",
    "        print(i+1)\n",
    "        break"
   ]
  },
  {
   "cell_type": "code",
   "execution_count": 11,
   "metadata": {},
   "outputs": [
    {
     "name": "stdout",
     "output_type": "stream",
     "text": [
      "2000\n"
     ]
    },
    {
     "ename": "IndexError",
     "evalue": "string index out of range",
     "output_type": "error",
     "traceback": [
      "\u001b[0;31m---------------------------------------------------------------------------\u001b[0m",
      "\u001b[0;31mIndexError\u001b[0m                                Traceback (most recent call last)",
      "Cell \u001b[0;32mIn[11], line 5\u001b[0m\n\u001b[1;32m      3\u001b[0m \u001b[38;5;28;01mfor\u001b[39;00m i \u001b[38;5;129;01min\u001b[39;00m \u001b[38;5;28mrange\u001b[39m(n):\n\u001b[1;32m      4\u001b[0m     s \u001b[38;5;241m=\u001b[39m \u001b[38;5;28minput\u001b[39m()\n\u001b[0;32m----> 5\u001b[0m     \u001b[38;5;28;01mif\u001b[39;00m s[\u001b[38;5;241m2\u001b[39m]\u001b[38;5;241m==\u001b[39ms[\u001b[38;5;241m3\u001b[39m]\u001b[38;5;241m==\u001b[39ms[\u001b[38;5;241m4\u001b[39m]\u001b[38;5;241m==\u001b[39ms[\u001b[38;5;241m5\u001b[39m]: ans\u001b[38;5;241m+\u001b[39m\u001b[38;5;241m=\u001b[39m\u001b[38;5;241m2000\u001b[39m\n\u001b[1;32m      6\u001b[0m     \u001b[38;5;28;01melif\u001b[39;00m s[\u001b[38;5;241m2\u001b[39m]\u001b[38;5;241m==\u001b[39ms[\u001b[38;5;241m3\u001b[39m] \u001b[38;5;129;01mand\u001b[39;00m s[\u001b[38;5;241m4\u001b[39m]\u001b[38;5;241m==\u001b[39ms[\u001b[38;5;241m5\u001b[39m]: ans\u001b[38;5;241m+\u001b[39m\u001b[38;5;241m=\u001b[39m\u001b[38;5;241m1500\u001b[39m\n\u001b[1;32m      7\u001b[0m     \u001b[38;5;28;01melse\u001b[39;00m: ans\u001b[38;5;241m+\u001b[39m\u001b[38;5;241m=\u001b[39m\u001b[38;5;241m1000\u001b[39m\n",
      "\u001b[0;31mIndexError\u001b[0m: string index out of range"
     ]
    }
   ],
   "source": [
    "n=int(input())\n",
    "ans=0\n",
    "for i in range(n):\n",
    "    s = input()\n",
    "    if s[2]==s[3]==s[4]==s[5]: ans+=2000\n",
    "    elif s[2]==s[3] and s[4]==s[5]: ans+=1500\n",
    "    else: ans+=1000\n",
    "print(ans)\n",
    "\n"
   ]
  },
  {
   "cell_type": "code",
   "execution_count": 27,
   "metadata": {},
   "outputs": [
    {
     "ename": "ValueError",
     "evalue": "invalid literal for int() with base 10: '3a'",
     "output_type": "error",
     "traceback": [
      "\u001b[0;31m---------------------------------------------------------------------------\u001b[0m",
      "\u001b[0;31mValueError\u001b[0m                                Traceback (most recent call last)",
      "Cell \u001b[0;32mIn[27], line 3\u001b[0m\n\u001b[1;32m      1\u001b[0m \u001b[38;5;28;01mwhile\u001b[39;00m \u001b[38;5;28;01mTrue\u001b[39;00m:\n\u001b[1;32m      2\u001b[0m     \u001b[38;5;28;01mtry\u001b[39;00m:\n\u001b[0;32m----> 3\u001b[0m         m,n \u001b[38;5;241m=\u001b[39m \u001b[38;5;28mmap\u001b[39m(\u001b[38;5;28mint\u001b[39m, \u001b[38;5;28minput\u001b[39m()\u001b[38;5;241m.\u001b[39msplit())\n\u001b[1;32m      4\u001b[0m         arr \u001b[38;5;241m=\u001b[39m [\u001b[38;5;28mlist\u001b[39m(\u001b[38;5;28mmap\u001b[39m(\u001b[38;5;28mint\u001b[39m, \u001b[38;5;28minput\u001b[39m()\u001b[38;5;241m.\u001b[39msplit())) \u001b[38;5;28;01mfor\u001b[39;00m _ \u001b[38;5;129;01min\u001b[39;00m \u001b[38;5;28mrange\u001b[39m(m)]\n\u001b[1;32m      5\u001b[0m         flip \u001b[38;5;241m=\u001b[39m [[\u001b[38;5;241m0\u001b[39m]\u001b[38;5;241m*\u001b[39mm \u001b[38;5;28;01mfor\u001b[39;00m _ \u001b[38;5;129;01min\u001b[39;00m \u001b[38;5;28mrange\u001b[39m(n)]\n",
      "\u001b[0;31mValueError\u001b[0m: invalid literal for int() with base 10: '3a'"
     ]
    }
   ],
   "source": [
    "while True:\n",
    "    try:\n",
    "        m,n = map(int, input().split())\n",
    "        arr = [list(map(int, input().split())) for _ in range(m)]\n",
    "        flip = [[0]*m for _ in range(n)]\n",
    "        for i in range(m):\n",
    "            for j in range(n):\n",
    "                flip[j][i] = arr[i][j]\n",
    "        for i in range(n):\n",
    "            print(\" \".join(map(str, flip[i])))\n",
    "    except EOFError:\n",
    "        break\n"
   ]
  },
  {
   "cell_type": "code",
   "execution_count": null,
   "metadata": {},
   "outputs": [],
   "source": [
    "n, k = map(int, input().split())\n",
    "arr = []\n",
    "la, ra = [], []\n",
    "for i in range(n):\n",
    "    l,r = list(map(int, input().split()))\n",
    "    la.append(l)\n",
    "    ra.append(r)\n",
    "    sorted\n"
   ]
  },
  {
   "cell_type": "code",
   "execution_count": 2,
   "metadata": {},
   "outputs": [
    {
     "name": "stdout",
     "output_type": "stream",
     "text": [
      "YES\n"
     ]
    }
   ],
   "source": [
    "a, b = map(int, input().split())\n",
    "if abs(a-b)==1 or (a==1 and b==10)==1:\n",
    "    print(\"Yes\")\n",
    "else:\n",
    "    print(\"No\")"
   ]
  },
  {
   "cell_type": "code",
   "execution_count": 5,
   "metadata": {},
   "outputs": [
    {
     "name": "stdout",
     "output_type": "stream",
     "text": [
      "-1\n"
     ]
    }
   ],
   "source": [
    "a,b,c = map(int , input ().split())\n",
    "find = False\n",
    "for i in range (a,b+1):\n",
    "    if i % c == 0:\n",
    "        print (i)\n",
    "        find = True\n",
    "        break\n",
    "if not find:\n",
    "    print (-1)"
   ]
  },
  {
   "cell_type": "code",
   "execution_count": 6,
   "metadata": {},
   "outputs": [
    {
     "data": {
      "text/plain": [
       "25"
      ]
     },
     "execution_count": 6,
     "metadata": {},
     "output_type": "execute_result"
    }
   ],
   "source": [
    "n = int(input())\n",
    "arr = list(map(int, input().split()))\n",
    "s=0\n",
    "for n in arr:\n",
    "    s+= n-10 if n>10 else 0\n",
    "print(s)"
   ]
  },
  {
   "cell_type": "code",
   "execution_count": 14,
   "metadata": {},
   "outputs": [
    {
     "ename": "ValueError",
     "evalue": "invalid literal for int() with base 10: ''",
     "output_type": "error",
     "traceback": [
      "\u001b[0;31m---------------------------------------------------------------------------\u001b[0m",
      "\u001b[0;31mValueError\u001b[0m                                Traceback (most recent call last)",
      "Cell \u001b[0;32mIn[14], line 1\u001b[0m\n\u001b[0;32m----> 1\u001b[0m n \u001b[38;5;241m=\u001b[39m \u001b[38;5;28mint\u001b[39m(\u001b[38;5;28minput\u001b[39m())\n\u001b[1;32m      2\u001b[0m arr \u001b[38;5;241m=\u001b[39m \u001b[38;5;28mlist\u001b[39m(\u001b[38;5;28mmap\u001b[39m(\u001b[38;5;28mint\u001b[39m, \u001b[38;5;28minput\u001b[39m()\u001b[38;5;241m.\u001b[39msplit()))\n\u001b[1;32m      3\u001b[0m \u001b[38;5;28;01mif\u001b[39;00m \u001b[38;5;28msorted\u001b[39m(arr)\u001b[38;5;241m==\u001b[39m\u001b[38;5;28mlist\u001b[39m(\u001b[38;5;28mrange\u001b[39m(\u001b[38;5;241m1\u001b[39m,n\u001b[38;5;241m+\u001b[39m\u001b[38;5;241m1\u001b[39m)):\n",
      "\u001b[0;31mValueError\u001b[0m: invalid literal for int() with base 10: ''"
     ]
    }
   ],
   "source": [
    "n = int(input())\n",
    "arr = list(map(int, input().split()))\n",
    "if sorted(arr)==list(range(1,n+1)):\n",
    "    print(\"Yes\")\n",
    "else:\n",
    "    print(\"No\")"
   ]
  },
  {
   "cell_type": "code",
   "execution_count": 20,
   "metadata": {},
   "outputs": [
    {
     "name": "stdout",
     "output_type": "stream",
     "text": [
      "2\n"
     ]
    }
   ],
   "source": [
    "from collections import Counter\n",
    "n = int(input())\n",
    "arr = list(map(int, input().split()))\n",
    "mp = {}\n",
    "ans = n*(n-1)//2 # 所有排列組合（全部不一樣）\n",
    "for v in arr: \n",
    "    w = mp.get(v, 0) \n",
    "    ans -= w # 減去已經出現過的排列組合\n",
    "    mp[v] = w+1\n",
    "print(ans)"
   ]
  },
  {
   "cell_type": "code",
   "execution_count": 3,
   "metadata": {},
   "outputs": [],
   "source": [
    "n = int(input())\n",
    "arr = list(map(int, input().split()))\n",
    "x = int(input())\n",
    "sa = sum(arr)\n",
    "ans = x//sa * n\n",
    "x %= sa\n",
    "for n in arr:\n",
    "    x -= n\n",
    "    ans += 1\n",
    "    if x<0:\n",
    "        break\n",
    "print(ans)"
   ]
  },
  {
   "cell_type": "code",
   "execution_count": 6,
   "metadata": {},
   "outputs": [
    {
     "data": {
      "text/plain": [
       "13"
      ]
     },
     "execution_count": 6,
     "metadata": {},
     "output_type": "execute_result"
    }
   ],
   "source": [
    "n=int(input())\n",
    "ans=0\n",
    "for i in range(1, 10**6):\n",
    "    s = str(i)\n",
    "    t = s+s\n",
    "    m = int(t)\n",
    "    if m<=n:\n",
    "        ans+=1\n",
    "print(ans)"
   ]
  },
  {
   "cell_type": "code",
   "execution_count": 11,
   "metadata": {},
   "outputs": [
    {
     "name": "stdout",
     "output_type": "stream",
     "text": [
      "56\n"
     ]
    }
   ],
   "source": [
    "n = int(input())\n",
    "a = list(map(int, input().split()))\n",
    "\n",
    "ans = 0\n",
    "s1 = 0  # Sum of squares of elements\n",
    "s2 = 0  # Sum of elements\n",
    "\n",
    "for i in range(n):\n",
    "    s1 += a[i] * a[i]  # Square each element and add to s1\n",
    "    s2 += a[i]        # Add element to s2\n",
    "\n",
    "ans = n * s1 - s2 * s2\n",
    "\n",
    "print(ans)\n"
   ]
  },
  {
   "cell_type": "code",
   "execution_count": 4,
   "metadata": {},
   "outputs": [
    {
     "name": "stdout",
     "output_type": "stream",
     "text": [
      "2\n"
     ]
    }
   ],
   "source": [
    "# levels = [1,4,7,3,4]\n",
    "# maxSpread=2\n",
    "levels = [4,8,1,7]\n",
    "maxSpread=3\n",
    "levels.sort()\n",
    "ct=0\n",
    "end=0\n",
    "for i in range(len(levels)):\n",
    "    if levels[i] <= end:\n",
    "        continue\n",
    "    end = levels[i]+maxSpread\n",
    "    ct+=1\n",
    "print(ct)\n"
   ]
  },
  {
   "cell_type": "code",
   "execution_count": 49,
   "metadata": {},
   "outputs": [],
   "source": [
    "# mat = [[2,4,6],[5,1,3]]\n",
    "# arr = [2,1,3,5,6,4]\n",
    "# mat = [[1,6],[2,4],[5,3]]\n",
    "# arr = [2,4,3,1,5,6]\n",
    "mat = [[3,1,8],[4,6,2],[7,5,9]]\n",
    "arr = [5,4,8,7,6,1,9,2,3]\n",
    "# solution TLE\n",
    "m, n = len(mat), len(mat[0])\n",
    "an = len(arr)\n",
    "pos = set()\n",
    "i=0\n",
    "while i+m<an+1:\n",
    "    pos.add(tuple(arr[i:i+m]))\n",
    "    i+=1\n",
    "i=0\n",
    "while i+n<an+1:\n",
    "    pos.add(tuple(arr[i:i+n]))\n",
    "    i+=1\n",
    "pos = list(pos)\n",
    "for r in range(m):\n",
    "    if tuple(mat[r]) in pos:\n",
    "        print(\"YES\")\n",
    "        break\n",
    "# ct_r, ct_w = [0]*m, [0]*n\n",
    "# ans=0\n",
    "\n",
    "# for a in arr:\n",
    "#     for r in range(m):\n",
    "#         for c in range(n):\n",
    "#             if mat[r][c] == a:\n",
    "#                 ct_r[r] += 1\n",
    "#                 ct_w[c] += 1\n",
    "#             if ct_r[r]>=n or ct_w[c]>=m:\n",
    "#                 ans+=1\n",
    "#             if ans==1:\n",
    "#                 print(a, ct_r, ct_w)\n",
    "\n",
    "\n",
    "        \n",
    "            "
   ]
  },
  {
   "cell_type": "code",
   "execution_count": 142,
   "metadata": {},
   "outputs": [
    {
     "name": "stdout",
     "output_type": "stream",
     "text": [
      "10\n",
      "- [[], [-800], [-800, -400], [-800, -200, -400], [-1600, -800, -200, -400], [-1600, -800, -200], [-1600, -800, -200], [-1600, -800], [-1600], []]\n",
      "0\n",
      "1\n",
      "2\n",
      "3\n",
      "4\n",
      "5\n",
      "6\n",
      "7\n",
      "8\n",
      "9\n",
      "2400\n"
     ]
    }
   ],
   "source": [
    "import heapq\n",
    "d=10\n",
    "s=[2,5,4,3]\n",
    "e=[8,9,7,5]\n",
    "a=[800,1600,200,400]\n",
    "k=2\n",
    "\n",
    "sc = [[]] * d\n",
    "for i in range(len(s)):\n",
    "    pt = -a[i]\n",
    "    # print(a[i])\n",
    "    for j in range(s[i], e[i]+1):\n",
    "        if sc[j-1]==[]:\n",
    "            sc[j-1] = [pt]\n",
    "        else:\n",
    "            heapq.heappush(sc[j-1], pt)\n",
    "print(len(sc))\n",
    "ans = float('-inf')\n",
    "print(\"-\",sc)\n",
    "for i in range(d):\n",
    "    print(i)\n",
    "    tmp=[]\n",
    "    if sc[i] != []:\n",
    "        for j in range(k):\n",
    "            if sc[i]:\n",
    "                tmp.append(-heapq.heappop(sc[i]))\n",
    "            # = max(ans, -heapq.heappop(sc[i]))\n",
    "    ans = max(ans, sum(tmp))\n",
    "print(ans)\n",
    "    # if sc[i] != []:\n",
    "    #     kk=k\n",
    "    #     while kk:\n",
    "    #         x = heapq.heappop(sc[i])\n",
    "    #         # print(x)\n",
    "    #         kk-=1\n"
   ]
  }
 ],
 "metadata": {
  "kernelspec": {
   "display_name": "base",
   "language": "python",
   "name": "python3"
  },
  "language_info": {
   "codemirror_mode": {
    "name": "ipython",
    "version": 3
   },
   "file_extension": ".py",
   "mimetype": "text/x-python",
   "name": "python",
   "nbconvert_exporter": "python",
   "pygments_lexer": "ipython3",
   "version": "3.11.5"
  }
 },
 "nbformat": 4,
 "nbformat_minor": 2
}
